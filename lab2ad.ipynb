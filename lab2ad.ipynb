{
 "cells": [
  {
   "cell_type": "markdown",
   "id": "fc14e381c5c48f75",
   "metadata": {
    "collapsed": false,
    "jupyter": {
     "outputs_hidden": false
    }
   },
   "source": [
    "## <center>Підготовка та аналіз даних</center>\n",
    "## <center>Лабораторна робота №2</center>\n",
    "#### <center>ФБ-25 Савченко Єлизавета</center>"
   ]
  },
  {
   "cell_type": "code",
   "execution_count": 1,
   "id": "c7bc6900-9f6e-4dd7-8325-2fc7a3a623d8",
   "metadata": {},
   "outputs": [
    {
     "name": "stdout",
     "output_type": "stream",
     "text": [
      "Defaulting to user installation because normal site-packages is not writeable\n",
      "Requirement already satisfied: pandas in /home/liza/.local/lib/python3.11/site-packages (2.2.1)\n",
      "Requirement already satisfied: numpy<2,>=1.23.2 in /usr/local/lib/python3.11/dist-packages (from pandas) (1.26.4)\n",
      "Requirement already satisfied: python-dateutil>=2.8.2 in /usr/lib/python3/dist-packages (from pandas) (2.8.2)\n",
      "Requirement already satisfied: pytz>=2020.1 in /usr/lib/python3/dist-packages (from pandas) (2023.3)\n",
      "Requirement already satisfied: tzdata>=2022.7 in /home/liza/.local/lib/python3.11/site-packages (from pandas) (2024.1)\n"
     ]
    }
   ],
   "source": [
    "!pip install pandas --break-system-packages\n"
   ]
  },
  {
   "cell_type": "markdown",
   "id": "4f68980069867b2e",
   "metadata": {
    "collapsed": false,
    "jupyter": {
     "outputs_hidden": false
    }
   },
   "source": [
    "Імпортуємо бібліотеки"
   ]
  },
  {
   "cell_type": "code",
   "execution_count": 2,
   "id": "de0396122080d568",
   "metadata": {
    "ExecuteTime": {
     "end_time": "2024-03-30T07:26:14.099849Z",
     "start_time": "2024-03-30T07:26:13.441237Z"
    },
    "collapsed": false,
    "jupyter": {
     "outputs_hidden": false
    }
   },
   "outputs": [],
   "source": [
    "import datetime\n",
    "import requests\n",
    "import urllib.request\n",
    "import pandas as pd\n",
    "import os"
   ]
  },
  {
   "cell_type": "markdown",
   "id": "07fcb8f4-bd25-4c26-a989-98610a7bafea",
   "metadata": {
    "collapsed": false,
    "jupyter": {
     "outputs_hidden": false
    }
   },
   "source": [
    "Скачуємо індекси для всіх областей. Додаємо в назву дату та час скачування"
   ]
  },
  {
   "cell_type": "code",
   "execution_count": 3,
   "id": "11037f3e-aeb9-4e53-ab84-12e53f5ae177",
   "metadata": {
    "ExecuteTime": {
     "start_time": "2024-03-30T07:20:16.582507Z"
    },
    "collapsed": false,
    "is_executing": true,
    "jupyter": {
     "outputs_hidden": false
    },
    "scrolled": true
   },
   "outputs": [
    {
     "name": "stdout",
     "output_type": "stream",
     "text": [
      "VHI from id 1 was downloaded at 2024-04-09_22-59-59\n",
      "VHI from id 2 was downloaded at 2024-04-09_23-00-01\n",
      "VHI from id 3 was downloaded at 2024-04-09_23-00-03\n",
      "VHI from id 4 was downloaded at 2024-04-09_23-00-05\n",
      "VHI from id 5 was downloaded at 2024-04-09_23-00-08\n",
      "VHI from id 6 was downloaded at 2024-04-09_23-00-10\n",
      "VHI from id 7 was downloaded at 2024-04-09_23-00-12\n",
      "VHI from id 8 was downloaded at 2024-04-09_23-00-14\n",
      "VHI from id 9 was downloaded at 2024-04-09_23-00-16\n",
      "VHI from id 10 was downloaded at 2024-04-09_23-00-18\n",
      "VHI from id 11 was downloaded at 2024-04-09_23-00-20\n",
      "VHI from id 12 was downloaded at 2024-04-09_23-00-23\n",
      "VHI from id 13 was downloaded at 2024-04-09_23-00-24\n",
      "VHI from id 14 was downloaded at 2024-04-09_23-00-26\n",
      "VHI from id 15 was downloaded at 2024-04-09_23-00-28\n",
      "VHI from id 16 was downloaded at 2024-04-09_23-00-30\n",
      "VHI from id 17 was downloaded at 2024-04-09_23-00-32\n",
      "VHI from id 18 was downloaded at 2024-04-09_23-00-35\n",
      "VHI from id 19 was downloaded at 2024-04-09_23-00-37\n",
      "VHI from id 20 was downloaded at 2024-04-09_23-00-39\n",
      "VHI from id 21 was downloaded at 2024-04-09_23-00-40\n",
      "VHI from id 22 was downloaded at 2024-04-09_23-00-42\n",
      "VHI from id 23 was downloaded at 2024-04-09_23-00-44\n",
      "VHI from id 24 was downloaded at 2024-04-09_23-00-46\n",
      "VHI from id 25 was downloaded at 2024-04-09_23-00-48\n",
      "VHI from id 26 was downloaded at 2024-04-09_23-00-50\n",
      "VHI from id 27 was downloaded at 2024-04-09_23-00-52\n"
     ]
    }
   ],
   "source": [
    "if os.path.exists('vhi'):\n",
    "    os.rename('vhi', 'vhi_backup_' + datetime.datetime.now().strftime(\"%Y-%m-%d_%H-%M-%S\"))\n",
    "os.mkdir('vhi')\n",
    "\n",
    "for ids in range(1, 28):\n",
    "    url = f\"https://www.star.nesdis.noaa.gov/smcd/emb/vci/VH/get_TS_admin.php?country=UKR&provinceID={ids}&year1=1981&year2=2024&type=Mean\"\n",
    "    response = requests.get(url)\n",
    "\n",
    "    if response.status_code != 200:\n",
    "        print(f\"Download complete\")\n",
    "        break\n",
    "\n",
    "    date_now = datetime.datetime.now().strftime(\"%Y-%m-%d_%H-%M-%S\")\n",
    "    vhi_url = urllib.request.urlopen(url)\n",
    "    file_name = f'vhi/vhi_{ids}_{date_now}.csv'\n",
    "    out = open(file_name, 'wb')\n",
    "    out.write(vhi_url.read())\n",
    "    out.close()\n",
    "    print(f\"VHI from id {ids} was downloaded at {date_now}\")"
   ]
  },
  {
   "cell_type": "markdown",
   "id": "80489f43036ad07f",
   "metadata": {
    "collapsed": false,
    "jupyter": {
     "outputs_hidden": false
    }
   },
   "source": [
    "Даємо імена стовбцям та зчитуємо файли у фрейм"
   ]
  },
  {
   "cell_type": "code",
   "execution_count": 4,
   "id": "db482e126477ec7f",
   "metadata": {
    "ExecuteTime": {
     "end_time": "2024-03-30T09:00:42.185037Z",
     "start_time": "2024-03-30T09:00:41.975937Z"
    },
    "collapsed": false,
    "jupyter": {
     "outputs_hidden": false
    }
   },
   "outputs": [
    {
     "name": "stdout",
     "output_type": "stream",
     "text": [
      "       Year  Week    SMN     SMT    VCI    TCI    VHI  ProvinceId\n",
      "0      1982   2.0  0.047  258.77  42.75  49.09  45.92          22\n",
      "1      1982   3.0  0.045  260.25  43.44  43.56  43.50          22\n",
      "2      1982   4.0  0.040  261.37  37.43  40.81  39.12          22\n",
      "3      1982   5.0  0.037  262.61  30.04  41.17  35.60          22\n",
      "4      1982   6.0  0.035  263.47  24.65  42.49  33.57          22\n",
      "...     ...   ...    ...     ...    ...    ...    ...         ...\n",
      "57990  2024  10.0  0.129  283.12  77.82   4.43  41.12           6\n",
      "57991  2024  11.0  0.141  285.05  75.25   5.68  40.46           6\n",
      "57992  2024  12.0  0.153  287.23  73.17   6.86  40.02           6\n",
      "57993  2024  13.0  0.164  289.63  70.63   8.77  39.70           6\n",
      "57994  2024  14.0  0.174  291.18  66.23  10.76  38.49           6\n",
      "\n",
      "[57969 rows x 8 columns] \n",
      "\n"
     ]
    }
   ],
   "source": [
    "folder = 'vhi'\n",
    "files = os.listdir(folder)\n",
    "df_all = pd.DataFrame()\n",
    "\n",
    "for file_name in files:\n",
    "    headers = ['Year', 'Week', 'SMN', 'SMT', 'VCI', 'TCI', 'VHI', 'empty']\n",
    "    df = pd.read_csv(f'{folder}/{file_name}', header=1, names=headers, skiprows=1)\n",
    "    df['ProvinceId'] = int(file_name.split(\"_\")[1])\n",
    "    df = df.drop(df.loc[df['VHI'] == -1].index)\n",
    "    df = df.drop(columns=['empty'])\n",
    "    df_all = pd.concat([df_all, df]).drop_duplicates().reset_index(drop=True)\n",
    "\n",
    "df_all = df_all.dropna(axis=0, how='any')\n",
    "print(df_all, '\\n')\n"
   ]
  },
  {
   "cell_type": "markdown",
   "id": "42b687c4180eeb1",
   "metadata": {
    "collapsed": false,
    "jupyter": {
     "outputs_hidden": false
    }
   },
   "source": [
    "Змінюємо індекси областей"
   ]
  },
  {
   "cell_type": "code",
   "execution_count": 5,
   "id": "2b145b37d7eb786a",
   "metadata": {
    "ExecuteTime": {
     "end_time": "2024-03-30T07:36:02.703521Z",
     "start_time": "2024-03-30T07:36:02.414932Z"
    },
    "collapsed": false,
    "jupyter": {
     "outputs_hidden": false
    }
   },
   "outputs": [
    {
     "name": "stdout",
     "output_type": "stream",
     "text": [
      "       Year  Week    SMN     SMT    VCI    TCI    VHI  ProvinceId\n",
      "0      1982   2.0  0.047  258.77  42.75  49.09  45.92          18\n",
      "1      1982   3.0  0.045  260.25  43.44  43.56  43.50          18\n",
      "2      1982   4.0  0.040  261.37  37.43  40.81  39.12          18\n",
      "3      1982   5.0  0.037  262.61  30.04  41.17  35.60          18\n",
      "4      1982   6.0  0.035  263.47  24.65  42.49  33.57          18\n",
      "...     ...   ...    ...     ...    ...    ...    ...         ...\n",
      "57990  2024  10.0  0.129  283.12  77.82   4.43  41.12           4\n",
      "57991  2024  11.0  0.141  285.05  75.25   5.68  40.46           4\n",
      "57992  2024  12.0  0.153  287.23  73.17   6.86  40.02           4\n",
      "57993  2024  13.0  0.164  289.63  70.63   8.77  39.70           4\n",
      "57994  2024  14.0  0.174  291.18  66.23  10.76  38.49           4\n",
      "\n",
      "[57969 rows x 8 columns]\n"
     ]
    }
   ],
   "source": [
    "ProvinceId_replacements = {1: 22, 2: 24, 3: 23, 4: 25, 5: 3, 6: 4, 7: 8, 8: 19, 9: 20, 10: 21, 11: 9, 13: 10, 14: 11, 15: 12,\n",
    "              16: 13, 17: 15, 18: 14, 19: 16, 21: 17, 22: 18, 23: 6, 24: 1, 25: 2, 26: 7, 27: 5}\n",
    "df_all[\"ProvinceId\"] = df_all[\"ProvinceId\"].replace(ProvinceId_replacements)\n",
    "df_all.to_csv(f'vhi/df_all.csv', index=False)\n",
    "\n",
    "print(df_all)"
   ]
  },
  {
   "cell_type": "markdown",
   "id": "632a3adc656dbfd6",
   "metadata": {
    "collapsed": false,
    "jupyter": {
     "outputs_hidden": false
    }
   },
   "source": [
    "Ряд VHI для області за вказаний рік, пошук екстремумів (min та max);"
   ]
  },
  {
   "cell_type": "code",
   "execution_count": 8,
   "id": "9dbad0af5f294086",
   "metadata": {
    "ExecuteTime": {
     "end_time": "2024-03-30T07:36:47.171914Z",
     "start_time": "2024-03-30T07:36:47.157949Z"
    },
    "collapsed": false,
    "jupyter": {
     "outputs_hidden": false
    }
   },
   "outputs": [],
   "source": [
    "def vhi(ProvinceId, year):\n",
    "    filtered_df = df_all[(df_all[\"ProvinceId\"] == ProvinceId) & (df_all[\"Year\"] == year)]\n",
    "    return filtered_df['VHI']\n",
    "\n",
    "def vhi_min(ProvinceId, year):\n",
    "    filtered_df = df_all[(df_all[\"ProvinceId\"] == ProvinceId) & (df_all[\"Year\"] == year)]\n",
    "    return filtered_df['VHI'].min()\n",
    "\n",
    "def vhi_max(ProvinceId, year):\n",
    "    filtered_df = df_all[(df_all[\"ProvinceId\"] == ProvinceId) & (df_all[\"Year\"] == year)]\n",
    "    return filtered_df['VHI'].max()\n",
    "\n",
    "df_all['Year'] = df_all['Year'].astype(int)\n"
   ]
  },
  {
   "cell_type": "code",
   "execution_count": 9,
   "id": "5c67ef44cb95dba5",
   "metadata": {
    "ExecuteTime": {
     "end_time": "2024-03-30T07:36:48.988524Z",
     "start_time": "2024-03-30T07:36:48.978634Z"
    },
    "collapsed": false,
    "jupyter": {
     "outputs_hidden": false
    }
   },
   "outputs": [
    {
     "data": {
      "text/plain": [
       "14034    47.42\n",
       "14035    51.20\n",
       "14036    53.68\n",
       "14037    54.35\n",
       "14038    54.66\n",
       "14039    56.10\n",
       "14040    56.81\n",
       "14041    56.06\n",
       "14042    56.27\n",
       "14043    56.51\n",
       "14044    56.42\n",
       "14045    56.02\n",
       "14046    54.84\n",
       "14047    52.12\n",
       "14048    49.52\n",
       "14049    48.44\n",
       "14050    53.62\n",
       "14051    52.32\n",
       "14052    52.21\n",
       "14053    51.77\n",
       "14054    53.50\n",
       "14055    54.49\n",
       "14056    54.25\n",
       "14057    55.50\n",
       "14058    57.29\n",
       "14059    57.93\n",
       "14060    58.44\n",
       "14061    65.13\n",
       "14062    59.35\n",
       "14063    61.40\n",
       "14064    63.51\n",
       "14065    64.39\n",
       "14066    66.13\n",
       "14067    65.04\n",
       "14068    60.86\n",
       "14069    57.68\n",
       "14070    56.59\n",
       "14071    54.98\n",
       "14072    53.23\n",
       "14073    52.48\n",
       "14074    55.20\n",
       "14075    57.22\n",
       "14076    57.66\n",
       "14077    58.95\n",
       "14078    56.50\n",
       "14079    54.77\n",
       "14080    54.48\n",
       "14081    53.22\n",
       "14082    50.36\n",
       "14083    47.41\n",
       "14084    45.59\n",
       "Name: VHI, dtype: float64"
      ]
     },
     "execution_count": 9,
     "metadata": {},
     "output_type": "execute_result"
    }
   ],
   "source": [
    "vhi(6, 2005)"
   ]
  },
  {
   "cell_type": "code",
   "execution_count": 10,
   "id": "c2bb5911b9baf5ff",
   "metadata": {
    "ExecuteTime": {
     "end_time": "2024-03-30T07:38:09.963608Z",
     "start_time": "2024-03-30T07:38:09.955150Z"
    },
    "collapsed": false,
    "jupyter": {
     "outputs_hidden": false
    }
   },
   "outputs": [
    {
     "data": {
      "text/plain": [
       "45.59"
      ]
     },
     "execution_count": 10,
     "metadata": {},
     "output_type": "execute_result"
    }
   ],
   "source": [
    "vhi_min(6, 2005)\n"
   ]
  },
  {
   "cell_type": "code",
   "execution_count": 11,
   "id": "351177b371823c66",
   "metadata": {
    "ExecuteTime": {
     "end_time": "2024-03-27T17:09:47.137101Z",
     "start_time": "2024-03-27T17:09:47.129144Z"
    },
    "collapsed": false,
    "jupyter": {
     "outputs_hidden": false
    }
   },
   "outputs": [
    {
     "data": {
      "text/plain": [
       "66.13"
      ]
     },
     "execution_count": 11,
     "metadata": {},
     "output_type": "execute_result"
    }
   ],
   "source": [
    "vhi_max(6, 2005)"
   ]
  },
  {
   "cell_type": "markdown",
   "id": "6c4fa7f1dc1034",
   "metadata": {
    "collapsed": false,
    "jupyter": {
     "outputs_hidden": false
    }
   },
   "source": [
    "Ряд VHI за вказаний діапазон років для вказаних областей"
   ]
  },
  {
   "cell_type": "code",
   "execution_count": 12,
   "id": "d6330356711067b2",
   "metadata": {
    "ExecuteTime": {
     "end_time": "2024-03-30T07:39:41.943891Z",
     "start_time": "2024-03-30T07:39:41.937760Z"
    },
    "collapsed": false,
    "jupyter": {
     "outputs_hidden": false
    }
   },
   "outputs": [],
   "source": [
    "def vhi_range(year_min, year_max, ProvinceIds):\n",
    "    if not isinstance(ProvinceIds, list) or not ProvinceIds:\n",
    "        print('Empty or not a list')\n",
    "        return\n",
    "    filtered_df = df_all[(df_all['Year'] >= year_min) & (df_all['Year'] <= year_max) & (df_all['ProvinceId'].isin(ProvinceIds))]\n",
    "    return filtered_df[['Year', 'VHI', 'ProvinceId']]\n"
   ]
  },
  {
   "cell_type": "code",
   "execution_count": 13,
   "id": "8f030efeac64dc00",
   "metadata": {
    "ExecuteTime": {
     "end_time": "2024-03-30T07:39:53.900239Z",
     "start_time": "2024-03-30T07:39:53.883923Z"
    },
    "collapsed": false,
    "jupyter": {
     "outputs_hidden": false
    }
   },
   "outputs": [
    {
     "data": {
      "text/html": [
       "<div>\n",
       "<style scoped>\n",
       "    .dataframe tbody tr th:only-of-type {\n",
       "        vertical-align: middle;\n",
       "    }\n",
       "\n",
       "    .dataframe tbody tr th {\n",
       "        vertical-align: top;\n",
       "    }\n",
       "\n",
       "    .dataframe thead th {\n",
       "        text-align: right;\n",
       "    }\n",
       "</style>\n",
       "<table border=\"1\" class=\"dataframe\">\n",
       "  <thead>\n",
       "    <tr style=\"text-align: right;\">\n",
       "      <th></th>\n",
       "      <th>Year</th>\n",
       "      <th>VHI</th>\n",
       "      <th>ProvinceId</th>\n",
       "    </tr>\n",
       "  </thead>\n",
       "  <tbody>\n",
       "    <tr>\n",
       "      <th>11645</th>\n",
       "      <td>2000</td>\n",
       "      <td>39.02</td>\n",
       "      <td>3</td>\n",
       "    </tr>\n",
       "    <tr>\n",
       "      <th>11646</th>\n",
       "      <td>2000</td>\n",
       "      <td>42.24</td>\n",
       "      <td>3</td>\n",
       "    </tr>\n",
       "    <tr>\n",
       "      <th>11647</th>\n",
       "      <td>2000</td>\n",
       "      <td>45.66</td>\n",
       "      <td>3</td>\n",
       "    </tr>\n",
       "    <tr>\n",
       "      <th>11648</th>\n",
       "      <td>2000</td>\n",
       "      <td>47.38</td>\n",
       "      <td>3</td>\n",
       "    </tr>\n",
       "    <tr>\n",
       "      <th>11649</th>\n",
       "      <td>2000</td>\n",
       "      <td>48.96</td>\n",
       "      <td>3</td>\n",
       "    </tr>\n",
       "    <tr>\n",
       "      <th>...</th>\n",
       "      <td>...</td>\n",
       "      <td>...</td>\n",
       "      <td>...</td>\n",
       "    </tr>\n",
       "    <tr>\n",
       "      <th>44101</th>\n",
       "      <td>2004</td>\n",
       "      <td>55.14</td>\n",
       "      <td>2</td>\n",
       "    </tr>\n",
       "    <tr>\n",
       "      <th>44102</th>\n",
       "      <td>2004</td>\n",
       "      <td>52.90</td>\n",
       "      <td>2</td>\n",
       "    </tr>\n",
       "    <tr>\n",
       "      <th>44103</th>\n",
       "      <td>2004</td>\n",
       "      <td>50.57</td>\n",
       "      <td>2</td>\n",
       "    </tr>\n",
       "    <tr>\n",
       "      <th>44104</th>\n",
       "      <td>2004</td>\n",
       "      <td>50.45</td>\n",
       "      <td>2</td>\n",
       "    </tr>\n",
       "    <tr>\n",
       "      <th>44105</th>\n",
       "      <td>2004</td>\n",
       "      <td>54.07</td>\n",
       "      <td>2</td>\n",
       "    </tr>\n",
       "  </tbody>\n",
       "</table>\n",
       "<p>723 rows × 3 columns</p>\n",
       "</div>"
      ],
      "text/plain": [
       "       Year    VHI  ProvinceId\n",
       "11645  2000  39.02           3\n",
       "11646  2000  42.24           3\n",
       "11647  2000  45.66           3\n",
       "11648  2000  47.38           3\n",
       "11649  2000  48.96           3\n",
       "...     ...    ...         ...\n",
       "44101  2004  55.14           2\n",
       "44102  2004  52.90           2\n",
       "44103  2004  50.57           2\n",
       "44104  2004  50.45           2\n",
       "44105  2004  54.07           2\n",
       "\n",
       "[723 rows x 3 columns]"
      ]
     },
     "execution_count": 13,
     "metadata": {},
     "output_type": "execute_result"
    }
   ],
   "source": [
    "vhi_range(2000, 2004, [5, 2, 3])"
   ]
  },
  {
   "cell_type": "markdown",
   "id": "966b2871126f482f",
   "metadata": {
    "collapsed": false,
    "jupyter": {
     "outputs_hidden": false
    }
   },
   "source": [
    "Роки, протягом яких екстремальні посухи торкнулися більше вказаного відсотка областей"
   ]
  },
  {
   "cell_type": "code",
   "execution_count": 14,
   "id": "7f3324f43b066dff",
   "metadata": {
    "ExecuteTime": {
     "end_time": "2024-03-30T07:41:55.498419Z",
     "start_time": "2024-03-30T07:41:55.492828Z"
    },
    "collapsed": false,
    "jupyter": {
     "outputs_hidden": false
    }
   },
   "outputs": [],
   "source": [
    "def extreme_droughts(percent):\n",
    "    df_drouhts = df_all[(df_all['VHI'] <= 15) & (df_all['VHI'] != -1)]\n",
    "    grouped = df_drouhts.groupby('Year')['ProvinceId'].nunique()\n",
    "    result = grouped[grouped > (25 * percent / 100)].reset_index()\n",
    "    return result"
   ]
  },
  {
   "cell_type": "code",
   "execution_count": 15,
   "id": "c1611615e5754f8f",
   "metadata": {
    "ExecuteTime": {
     "end_time": "2024-03-30T07:42:18.748476Z",
     "start_time": "2024-03-30T07:42:18.736147Z"
    },
    "collapsed": false,
    "jupyter": {
     "outputs_hidden": false
    }
   },
   "outputs": [
    {
     "data": {
      "text/html": [
       "<div>\n",
       "<style scoped>\n",
       "    .dataframe tbody tr th:only-of-type {\n",
       "        vertical-align: middle;\n",
       "    }\n",
       "\n",
       "    .dataframe tbody tr th {\n",
       "        vertical-align: top;\n",
       "    }\n",
       "\n",
       "    .dataframe thead th {\n",
       "        text-align: right;\n",
       "    }\n",
       "</style>\n",
       "<table border=\"1\" class=\"dataframe\">\n",
       "  <thead>\n",
       "    <tr style=\"text-align: right;\">\n",
       "      <th></th>\n",
       "      <th>Year</th>\n",
       "      <th>ProvinceId</th>\n",
       "    </tr>\n",
       "  </thead>\n",
       "  <tbody>\n",
       "    <tr>\n",
       "      <th>0</th>\n",
       "      <td>1986</td>\n",
       "      <td>2</td>\n",
       "    </tr>\n",
       "    <tr>\n",
       "      <th>1</th>\n",
       "      <td>1993</td>\n",
       "      <td>2</td>\n",
       "    </tr>\n",
       "    <tr>\n",
       "      <th>2</th>\n",
       "      <td>2000</td>\n",
       "      <td>6</td>\n",
       "    </tr>\n",
       "    <tr>\n",
       "      <th>3</th>\n",
       "      <td>2007</td>\n",
       "      <td>5</td>\n",
       "    </tr>\n",
       "  </tbody>\n",
       "</table>\n",
       "</div>"
      ],
      "text/plain": [
       "   Year  ProvinceId\n",
       "0  1986           2\n",
       "1  1993           2\n",
       "2  2000           6\n",
       "3  2007           5"
      ]
     },
     "execution_count": 15,
     "metadata": {},
     "output_type": "execute_result"
    }
   ],
   "source": [
    "extreme_droughts(5)"
   ]
  },
  {
   "cell_type": "markdown",
   "id": "74fd3bb1c45a12f7",
   "metadata": {
    "collapsed": false,
    "jupyter": {
     "outputs_hidden": false
    }
   },
   "source": [
    "І так само для помірних посух"
   ]
  },
  {
   "cell_type": "code",
   "execution_count": 16,
   "id": "f4ad8b2ed29bf275",
   "metadata": {
    "ExecuteTime": {
     "end_time": "2024-03-30T07:45:09.039147Z",
     "start_time": "2024-03-30T07:45:09.030011Z"
    },
    "collapsed": false,
    "jupyter": {
     "outputs_hidden": false
    }
   },
   "outputs": [],
   "source": [
    "def moderate_droughts(percent, min=15, max=40):\n",
    "    df_drouhts = df_all[(df_all['VHI'] >= min) & (df_all['VHI'] <= max)]\n",
    "    grouped = df_drouhts.groupby('Year')['ProvinceId'].nunique()\n",
    "    count_areas = df_all['ProvinceId'].nunique()\n",
    "    result = grouped[grouped > (count_areas * percent / 100)].reset_index()\n",
    "    return result"
   ]
  },
  {
   "cell_type": "code",
   "execution_count": 17,
   "id": "13ae1a171ce9927b",
   "metadata": {
    "ExecuteTime": {
     "end_time": "2024-03-30T07:45:09.671329Z",
     "start_time": "2024-03-30T07:45:09.658365Z"
    },
    "collapsed": false,
    "jupyter": {
     "outputs_hidden": false
    }
   },
   "outputs": [
    {
     "data": {
      "text/html": [
       "<div>\n",
       "<style scoped>\n",
       "    .dataframe tbody tr th:only-of-type {\n",
       "        vertical-align: middle;\n",
       "    }\n",
       "\n",
       "    .dataframe tbody tr th {\n",
       "        vertical-align: top;\n",
       "    }\n",
       "\n",
       "    .dataframe thead th {\n",
       "        text-align: right;\n",
       "    }\n",
       "</style>\n",
       "<table border=\"1\" class=\"dataframe\">\n",
       "  <thead>\n",
       "    <tr style=\"text-align: right;\">\n",
       "      <th></th>\n",
       "      <th>Year</th>\n",
       "      <th>ProvinceId</th>\n",
       "    </tr>\n",
       "  </thead>\n",
       "  <tbody>\n",
       "    <tr>\n",
       "      <th>0</th>\n",
       "      <td>1982</td>\n",
       "      <td>25</td>\n",
       "    </tr>\n",
       "    <tr>\n",
       "      <th>1</th>\n",
       "      <td>1983</td>\n",
       "      <td>25</td>\n",
       "    </tr>\n",
       "    <tr>\n",
       "      <th>2</th>\n",
       "      <td>1984</td>\n",
       "      <td>25</td>\n",
       "    </tr>\n",
       "    <tr>\n",
       "      <th>3</th>\n",
       "      <td>1985</td>\n",
       "      <td>25</td>\n",
       "    </tr>\n",
       "    <tr>\n",
       "      <th>4</th>\n",
       "      <td>1986</td>\n",
       "      <td>25</td>\n",
       "    </tr>\n",
       "    <tr>\n",
       "      <th>5</th>\n",
       "      <td>1987</td>\n",
       "      <td>25</td>\n",
       "    </tr>\n",
       "    <tr>\n",
       "      <th>6</th>\n",
       "      <td>1988</td>\n",
       "      <td>25</td>\n",
       "    </tr>\n",
       "    <tr>\n",
       "      <th>7</th>\n",
       "      <td>1989</td>\n",
       "      <td>25</td>\n",
       "    </tr>\n",
       "    <tr>\n",
       "      <th>8</th>\n",
       "      <td>1990</td>\n",
       "      <td>25</td>\n",
       "    </tr>\n",
       "    <tr>\n",
       "      <th>9</th>\n",
       "      <td>1991</td>\n",
       "      <td>24</td>\n",
       "    </tr>\n",
       "    <tr>\n",
       "      <th>10</th>\n",
       "      <td>1992</td>\n",
       "      <td>25</td>\n",
       "    </tr>\n",
       "    <tr>\n",
       "      <th>11</th>\n",
       "      <td>1993</td>\n",
       "      <td>25</td>\n",
       "    </tr>\n",
       "    <tr>\n",
       "      <th>12</th>\n",
       "      <td>1994</td>\n",
       "      <td>25</td>\n",
       "    </tr>\n",
       "    <tr>\n",
       "      <th>13</th>\n",
       "      <td>1995</td>\n",
       "      <td>25</td>\n",
       "    </tr>\n",
       "    <tr>\n",
       "      <th>14</th>\n",
       "      <td>1996</td>\n",
       "      <td>25</td>\n",
       "    </tr>\n",
       "    <tr>\n",
       "      <th>15</th>\n",
       "      <td>1997</td>\n",
       "      <td>22</td>\n",
       "    </tr>\n",
       "    <tr>\n",
       "      <th>16</th>\n",
       "      <td>1998</td>\n",
       "      <td>18</td>\n",
       "    </tr>\n",
       "    <tr>\n",
       "      <th>17</th>\n",
       "      <td>1999</td>\n",
       "      <td>25</td>\n",
       "    </tr>\n",
       "    <tr>\n",
       "      <th>18</th>\n",
       "      <td>2000</td>\n",
       "      <td>25</td>\n",
       "    </tr>\n",
       "    <tr>\n",
       "      <th>19</th>\n",
       "      <td>2001</td>\n",
       "      <td>21</td>\n",
       "    </tr>\n",
       "    <tr>\n",
       "      <th>20</th>\n",
       "      <td>2002</td>\n",
       "      <td>21</td>\n",
       "    </tr>\n",
       "    <tr>\n",
       "      <th>21</th>\n",
       "      <td>2003</td>\n",
       "      <td>20</td>\n",
       "    </tr>\n",
       "    <tr>\n",
       "      <th>22</th>\n",
       "      <td>2004</td>\n",
       "      <td>6</td>\n",
       "    </tr>\n",
       "    <tr>\n",
       "      <th>23</th>\n",
       "      <td>2005</td>\n",
       "      <td>15</td>\n",
       "    </tr>\n",
       "    <tr>\n",
       "      <th>24</th>\n",
       "      <td>2006</td>\n",
       "      <td>21</td>\n",
       "    </tr>\n",
       "    <tr>\n",
       "      <th>25</th>\n",
       "      <td>2007</td>\n",
       "      <td>21</td>\n",
       "    </tr>\n",
       "    <tr>\n",
       "      <th>26</th>\n",
       "      <td>2008</td>\n",
       "      <td>22</td>\n",
       "    </tr>\n",
       "    <tr>\n",
       "      <th>27</th>\n",
       "      <td>2009</td>\n",
       "      <td>25</td>\n",
       "    </tr>\n",
       "    <tr>\n",
       "      <th>28</th>\n",
       "      <td>2010</td>\n",
       "      <td>22</td>\n",
       "    </tr>\n",
       "    <tr>\n",
       "      <th>29</th>\n",
       "      <td>2011</td>\n",
       "      <td>21</td>\n",
       "    </tr>\n",
       "    <tr>\n",
       "      <th>30</th>\n",
       "      <td>2012</td>\n",
       "      <td>19</td>\n",
       "    </tr>\n",
       "    <tr>\n",
       "      <th>31</th>\n",
       "      <td>2013</td>\n",
       "      <td>23</td>\n",
       "    </tr>\n",
       "    <tr>\n",
       "      <th>32</th>\n",
       "      <td>2014</td>\n",
       "      <td>21</td>\n",
       "    </tr>\n",
       "    <tr>\n",
       "      <th>33</th>\n",
       "      <td>2015</td>\n",
       "      <td>25</td>\n",
       "    </tr>\n",
       "    <tr>\n",
       "      <th>34</th>\n",
       "      <td>2016</td>\n",
       "      <td>23</td>\n",
       "    </tr>\n",
       "    <tr>\n",
       "      <th>35</th>\n",
       "      <td>2017</td>\n",
       "      <td>22</td>\n",
       "    </tr>\n",
       "    <tr>\n",
       "      <th>36</th>\n",
       "      <td>2018</td>\n",
       "      <td>24</td>\n",
       "    </tr>\n",
       "    <tr>\n",
       "      <th>37</th>\n",
       "      <td>2019</td>\n",
       "      <td>25</td>\n",
       "    </tr>\n",
       "    <tr>\n",
       "      <th>38</th>\n",
       "      <td>2020</td>\n",
       "      <td>23</td>\n",
       "    </tr>\n",
       "    <tr>\n",
       "      <th>39</th>\n",
       "      <td>2021</td>\n",
       "      <td>23</td>\n",
       "    </tr>\n",
       "    <tr>\n",
       "      <th>40</th>\n",
       "      <td>2022</td>\n",
       "      <td>23</td>\n",
       "    </tr>\n",
       "    <tr>\n",
       "      <th>41</th>\n",
       "      <td>2023</td>\n",
       "      <td>23</td>\n",
       "    </tr>\n",
       "    <tr>\n",
       "      <th>42</th>\n",
       "      <td>2024</td>\n",
       "      <td>14</td>\n",
       "    </tr>\n",
       "  </tbody>\n",
       "</table>\n",
       "</div>"
      ],
      "text/plain": [
       "    Year  ProvinceId\n",
       "0   1982          25\n",
       "1   1983          25\n",
       "2   1984          25\n",
       "3   1985          25\n",
       "4   1986          25\n",
       "5   1987          25\n",
       "6   1988          25\n",
       "7   1989          25\n",
       "8   1990          25\n",
       "9   1991          24\n",
       "10  1992          25\n",
       "11  1993          25\n",
       "12  1994          25\n",
       "13  1995          25\n",
       "14  1996          25\n",
       "15  1997          22\n",
       "16  1998          18\n",
       "17  1999          25\n",
       "18  2000          25\n",
       "19  2001          21\n",
       "20  2002          21\n",
       "21  2003          20\n",
       "22  2004           6\n",
       "23  2005          15\n",
       "24  2006          21\n",
       "25  2007          21\n",
       "26  2008          22\n",
       "27  2009          25\n",
       "28  2010          22\n",
       "29  2011          21\n",
       "30  2012          19\n",
       "31  2013          23\n",
       "32  2014          21\n",
       "33  2015          25\n",
       "34  2016          23\n",
       "35  2017          22\n",
       "36  2018          24\n",
       "37  2019          25\n",
       "38  2020          23\n",
       "39  2021          23\n",
       "40  2022          23\n",
       "41  2023          23\n",
       "42  2024          14"
      ]
     },
     "execution_count": 17,
     "metadata": {},
     "output_type": "execute_result"
    }
   ],
   "source": [
    "moderate_droughts(10)"
   ]
  },
  {
   "cell_type": "code",
   "execution_count": null,
   "id": "3dc0ae4bba2a2e6e",
   "metadata": {
    "ExecuteTime": {
     "start_time": "2024-03-27T16:56:45.858690Z"
    },
    "collapsed": false,
    "jupyter": {
     "outputs_hidden": false
    }
   },
   "outputs": [],
   "source": []
  },
  {
   "cell_type": "code",
   "execution_count": null,
   "id": "4ec1f616-c11a-4fbb-b2a3-1a7b4e100a87",
   "metadata": {},
   "outputs": [],
   "source": []
  }
 ],
 "metadata": {
  "kernelspec": {
   "display_name": "Python 3 (ipykernel)",
   "language": "python",
   "name": "python3"
  },
  "language_info": {
   "codemirror_mode": {
    "name": "ipython",
    "version": 3
   },
   "file_extension": ".py",
   "mimetype": "text/x-python",
   "name": "python",
   "nbconvert_exporter": "python",
   "pygments_lexer": "ipython3",
   "version": "3.11.6"
  }
 },
 "nbformat": 4,
 "nbformat_minor": 5
}
