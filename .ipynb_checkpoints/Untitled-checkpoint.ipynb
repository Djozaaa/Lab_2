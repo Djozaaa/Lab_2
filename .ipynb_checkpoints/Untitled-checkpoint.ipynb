{
 "cells": [
  {
   "cell_type": "markdown",
   "id": "fc14e381c5c48f75",
   "metadata": {
    "collapsed": false,
    "jupyter": {
     "outputs_hidden": false
    }
   },
   "source": [
    "## <center>Підготовка та аналіз даних</center>\n",
    "## <center>Лабораторна робота №2</center>\n",
    "#### <center>ФБ-25 Савченко Єлизавета</center>"
   ]
  },
  {
   "cell_type": "code",
   "execution_count": 54,
   "id": "c7bc6900-9f6e-4dd7-8325-2fc7a3a623d8",
   "metadata": {},
   "outputs": [
    {
     "name": "stdout",
     "output_type": "stream",
     "text": [
      "Defaulting to user installation because normal site-packages is not writeable\n",
      "Requirement already satisfied: pandas in /home/liza/.local/lib/python3.11/site-packages (2.2.1)\n",
      "Requirement already satisfied: numpy<2,>=1.23.2 in /usr/local/lib/python3.11/dist-packages (from pandas) (1.26.4)\n",
      "Requirement already satisfied: python-dateutil>=2.8.2 in /usr/lib/python3/dist-packages (from pandas) (2.8.2)\n",
      "Requirement already satisfied: pytz>=2020.1 in /usr/lib/python3/dist-packages (from pandas) (2023.3)\n",
      "Requirement already satisfied: tzdata>=2022.7 in /home/liza/.local/lib/python3.11/site-packages (from pandas) (2024.1)\n"
     ]
    }
   ],
   "source": [
    "!pip install pandas --break-system-packages\n"
   ]
  },
  {
   "cell_type": "markdown",
   "id": "4f68980069867b2e",
   "metadata": {
    "collapsed": false,
    "jupyter": {
     "outputs_hidden": false
    }
   },
   "source": [
    "Імпортуємо бібліотеки"
   ]
  },
  {
   "cell_type": "code",
   "execution_count": 55,
   "id": "de0396122080d568",
   "metadata": {
    "ExecuteTime": {
     "end_time": "2024-03-30T07:26:14.099849Z",
     "start_time": "2024-03-30T07:26:13.441237Z"
    },
    "collapsed": false,
    "jupyter": {
     "outputs_hidden": false
    }
   },
   "outputs": [],
   "source": [
    "import datetime\n",
    "import requests\n",
    "import urllib.request\n",
    "import pandas as pd\n",
    "import os"
   ]
  },
  {
   "cell_type": "code",
   "execution_count": 56,
   "id": "aa79de1b-714b-4fdf-beaa-64944fd84bf5",
   "metadata": {
    "collapsed": false,
    "jupyter": {
     "outputs_hidden": false
    }
   },
   "outputs": [
    {
     "data": {
      "text/plain": [
       "'Скачуємо індекси для всіх областей. Додаємо в назву дату та час скачування'"
      ]
     },
     "execution_count": 56,
     "metadata": {},
     "output_type": "execute_result"
    }
   ],
   "source": [
    "'Скачуємо індекси для всіх областей. Додаємо в назву дату та час скачування'"
   ]
  },
  {
   "cell_type": "code",
   "execution_count": 57,
   "id": "11037f3e-aeb9-4e53-ab84-12e53f5ae177",
   "metadata": {
    "ExecuteTime": {
     "start_time": "2024-03-30T07:20:16.582507Z"
    },
    "collapsed": false,
    "is_executing": true,
    "jupyter": {
     "outputs_hidden": false
    },
    "scrolled": true
   },
   "outputs": [
    {
     "name": "stdout",
     "output_type": "stream",
     "text": [
      "VHI from id 1 was downloaded at 2024-04-09_21-14-54\n",
      "VHI from id 2 was downloaded at 2024-04-09_21-14-57\n",
      "VHI from id 3 was downloaded at 2024-04-09_21-14-59\n",
      "VHI from id 4 was downloaded at 2024-04-09_21-15-01\n",
      "VHI from id 5 was downloaded at 2024-04-09_21-15-03\n",
      "VHI from id 6 was downloaded at 2024-04-09_21-15-06\n",
      "VHI from id 7 was downloaded at 2024-04-09_21-15-17\n",
      "VHI from id 8 was downloaded at 2024-04-09_21-15-20\n",
      "VHI from id 9 was downloaded at 2024-04-09_21-15-22\n",
      "VHI from id 10 was downloaded at 2024-04-09_21-15-24\n",
      "VHI from id 11 was downloaded at 2024-04-09_21-15-26\n",
      "VHI from id 12 was downloaded at 2024-04-09_21-15-28\n",
      "VHI from id 13 was downloaded at 2024-04-09_21-15-30\n",
      "VHI from id 14 was downloaded at 2024-04-09_21-15-32\n",
      "VHI from id 15 was downloaded at 2024-04-09_21-15-33\n",
      "VHI from id 16 was downloaded at 2024-04-09_21-15-36\n",
      "VHI from id 17 was downloaded at 2024-04-09_21-15-38\n",
      "VHI from id 18 was downloaded at 2024-04-09_21-15-39\n",
      "VHI from id 19 was downloaded at 2024-04-09_21-15-41\n",
      "VHI from id 20 was downloaded at 2024-04-09_21-15-43\n",
      "VHI from id 21 was downloaded at 2024-04-09_21-15-45\n",
      "VHI from id 22 was downloaded at 2024-04-09_21-15-47\n",
      "VHI from id 23 was downloaded at 2024-04-09_21-15-49\n",
      "VHI from id 24 was downloaded at 2024-04-09_21-15-51\n",
      "VHI from id 25 was downloaded at 2024-04-09_21-15-53\n",
      "VHI from id 26 was downloaded at 2024-04-09_21-15-57\n",
      "VHI from id 27 was downloaded at 2024-04-09_21-16-00\n"
     ]
    }
   ],
   "source": [
    "if not os.path.exists('vhi'):\n",
    "    os.mkdir('vhi')\n",
    "    print(f'The folder is created')\n",
    "\n",
    "for ids in range(1, 28):\n",
    "    url = f\"https://www.star.nesdis.noaa.gov/smcd/emb/vci/VH/get_TS_admin.php?country=UKR&provinceID={ids}&year1=1981&year2=2024&type=Mean\"\n",
    "    response = requests.get(url)\n",
    "\n",
    "    if response.status_code != 200:\n",
    "        print(f\"Download complete\")\n",
    "        break\n",
    "\n",
    "    date_now = datetime.datetime.now().strftime(\"%Y-%m-%d_%H-%M-%S\")\n",
    "    vhi_url = urllib.request.urlopen(url)\n",
    "    file_name = f'vhi/vhi_id_{ids}_{date_now}.csv'\n",
    "    out = open(file_name, 'wb')\n",
    "    out.write(vhi_url.read())\n",
    "    out.close()\n",
    "    print(f\"VHI from id {ids} was downloaded at {date_now}\")"
   ]
  },
  {
   "cell_type": "markdown",
   "id": "80489f43036ad07f",
   "metadata": {
    "collapsed": false,
    "jupyter": {
     "outputs_hidden": false
    }
   },
   "source": [
    "Даємо імена стовбцям та зчитуємо файли у фрейм"
   ]
  },
  {
   "cell_type": "code",
   "execution_count": 58,
   "id": "db482e126477ec7f",
   "metadata": {
    "ExecuteTime": {
     "end_time": "2024-03-30T09:00:42.185037Z",
     "start_time": "2024-03-30T09:00:41.975937Z"
    },
    "collapsed": false,
    "jupyter": {
     "outputs_hidden": false
    }
   },
   "outputs": [
    {
     "ename": "IndexError",
     "evalue": "list index out of range",
     "output_type": "error",
     "traceback": [
      "\u001b[0;31m---------------------------------------------------------------------------\u001b[0m",
      "\u001b[0;31mIndexError\u001b[0m                                Traceback (most recent call last)",
      "Cell \u001b[0;32mIn[58], line 12\u001b[0m\n\u001b[1;32m     10\u001b[0m df \u001b[38;5;241m=\u001b[39m pd\u001b[38;5;241m.\u001b[39mread_csv(\u001b[38;5;124mf\u001b[39m\u001b[38;5;124m'\u001b[39m\u001b[38;5;132;01m{\u001b[39;00mfolder\u001b[38;5;132;01m}\u001b[39;00m\u001b[38;5;124m/\u001b[39m\u001b[38;5;132;01m{\u001b[39;00mfile_name\u001b[38;5;132;01m}\u001b[39;00m\u001b[38;5;124m'\u001b[39m, header\u001b[38;5;241m=\u001b[39m\u001b[38;5;241m1\u001b[39m, names\u001b[38;5;241m=\u001b[39mheaders, skiprows\u001b[38;5;241m=\u001b[39m\u001b[38;5;241m1\u001b[39m)[:\u001b[38;5;241m-\u001b[39m\u001b[38;5;241m1\u001b[39m]\n\u001b[1;32m     11\u001b[0m df \u001b[38;5;241m=\u001b[39m df\u001b[38;5;241m.\u001b[39mdrop(df\u001b[38;5;241m.\u001b[39mloc[df[\u001b[38;5;124m'\u001b[39m\u001b[38;5;124mVHI\u001b[39m\u001b[38;5;124m'\u001b[39m] \u001b[38;5;241m==\u001b[39m \u001b[38;5;241m-\u001b[39m\u001b[38;5;241m1\u001b[39m]\u001b[38;5;241m.\u001b[39mindex)\n\u001b[0;32m---> 12\u001b[0m df[\u001b[38;5;124m'\u001b[39m\u001b[38;5;124marea\u001b[39m\u001b[38;5;124m'\u001b[39m] \u001b[38;5;241m=\u001b[39m \u001b[38;5;28mint\u001b[39m(\u001b[43mfile_name\u001b[49m\u001b[38;5;241;43m.\u001b[39;49m\u001b[43msplit\u001b[49m\u001b[43m(\u001b[49m\u001b[38;5;124;43m\"\u001b[39;49m\u001b[38;5;124;43m_\u001b[39;49m\u001b[38;5;124;43m\"\u001b[39;49m\u001b[43m)\u001b[49m\u001b[43m[\u001b[49m\u001b[38;5;241;43m2\u001b[39;49m\u001b[43m]\u001b[49m)\n\u001b[1;32m     13\u001b[0m \u001b[38;5;66;03m# print(df.head(), '\\n')\u001b[39;00m\n\u001b[1;32m     14\u001b[0m \u001b[38;5;66;03m# df_all = pd.concat([df_all, df], ignore_index=True)\u001b[39;00m\n\u001b[1;32m     15\u001b[0m df \u001b[38;5;241m=\u001b[39m df\u001b[38;5;241m.\u001b[39mdrop(columns\u001b[38;5;241m=\u001b[39m[\u001b[38;5;124m'\u001b[39m\u001b[38;5;124mempty\u001b[39m\u001b[38;5;124m'\u001b[39m])\n",
      "\u001b[0;31mIndexError\u001b[0m: list index out of range"
     ]
    }
   ],
   "source": [
    "folder = 'vhi'\n",
    "files = os.listdir(folder)\n",
    "# ids = 0\n",
    "df_all = pd.DataFrame()\n",
    "\n",
    "for file_name in files:\n",
    "    # ids += 1\n",
    "    \n",
    "    headers = ['Year', 'Week', 'SMN', 'SMT', 'VCI', 'TCI', 'VHI', 'empty']\n",
    "    df = pd.read_csv(f'{folder}/{file_name}', header=1, names=headers, skiprows=1)[:-1]\n",
    "    df = df.drop(df.loc[df['VHI'] == -1].index)\n",
    "    df['area'] = int(file_name.split(\"_\")[2])\n",
    "    # print(df.head(), '\\n')\n",
    "    # df_all = pd.concat([df_all, df], ignore_index=True)\n",
    "    df = df.drop(columns=['empty'])\n",
    "    df_all = df_all.dropna(axis=1, how='all')\n",
    "    df_all = pd.concat([df_all, df]).drop_duplicates().reset_index(drop=True)\n",
    "    \n",
    "# zm = df_all.isna().sum()\n",
    "# print(zm)\n",
    "print(df_all, '\\n')"
   ]
  },
  {
   "cell_type": "markdown",
   "id": "42b687c4180eeb1",
   "metadata": {
    "collapsed": false,
    "jupyter": {
     "outputs_hidden": false
    }
   },
   "source": [
    "Змінюємо індекси областей"
   ]
  },
  {
   "cell_type": "code",
   "execution_count": null,
   "id": "2b145b37d7eb786a",
   "metadata": {
    "ExecuteTime": {
     "end_time": "2024-03-30T07:36:02.703521Z",
     "start_time": "2024-03-30T07:36:02.414932Z"
    },
    "collapsed": false,
    "jupyter": {
     "outputs_hidden": false
    }
   },
   "outputs": [],
   "source": [
    "dict_areas = {1: 22, 2: 24, 3: 23, 4: 25, 5: 3, 6: 4, 7: 8, 8: 19, 9: 20, 10: 21, 11: 9, 13: 10, 14: 11, 15: 12,\n",
    "              16: 13, 17: 15, 18: 14, 19: 16, 21: 17, 22: 18, 23: 6, 24: 1, 25: 2, 26: 7, 27: 5}\n",
    "df_all[\"area\"] = df_all[\"area\"].replace(dict_areas)\n",
    "df_all.to_csv(f'vhi/df_all.csv', index=False)\n",
    "\n",
    "print(df_all)"
   ]
  },
  {
   "cell_type": "markdown",
   "id": "632a3adc656dbfd6",
   "metadata": {
    "collapsed": false,
    "jupyter": {
     "outputs_hidden": false
    }
   },
   "source": [
    "Ряд VHI для області за вказаний рік, пошук екстремумів (min та max);"
   ]
  },
  {
   "cell_type": "code",
   "execution_count": null,
   "id": "9dbad0af5f294086",
   "metadata": {
    "ExecuteTime": {
     "end_time": "2024-03-30T07:36:47.171914Z",
     "start_time": "2024-03-30T07:36:47.157949Z"
    },
    "collapsed": false,
    "jupyter": {
     "outputs_hidden": false
    }
   },
   "outputs": [],
   "source": [
    "def vhi(area, year):\n",
    "    filtered_df = df_all[(df_all[\"area\"] == area) & (df_all[\"Year\"] == year)]\n",
    "    return filtered_df['VHI']\n",
    "\n",
    "def vhi_min(area, year):\n",
    "    filtered_df = df_all[(df_all[\"area\"] == area) & (df_all[\"Year\"] == year)]\n",
    "    return filtered_df['VHI'].min()\n",
    "\n",
    "def vhi_max(area, year):\n",
    "    filtered_df = df_all[(df_all[\"area\"] == area) & (df_all[\"Year\"] == year)]\n",
    "    return filtered_df['VHI'].max()\n",
    "\n",
    "df_all['Year'] = df_all['Year'].astype(int)\n"
   ]
  },
  {
   "cell_type": "code",
   "execution_count": null,
   "id": "5c67ef44cb95dba5",
   "metadata": {
    "ExecuteTime": {
     "end_time": "2024-03-30T07:36:48.988524Z",
     "start_time": "2024-03-30T07:36:48.978634Z"
    },
    "collapsed": false,
    "jupyter": {
     "outputs_hidden": false
    }
   },
   "outputs": [],
   "source": [
    "vhi(6, 2005)"
   ]
  },
  {
   "cell_type": "code",
   "execution_count": null,
   "id": "c2bb5911b9baf5ff",
   "metadata": {
    "ExecuteTime": {
     "end_time": "2024-03-30T07:38:09.963608Z",
     "start_time": "2024-03-30T07:38:09.955150Z"
    },
    "collapsed": false,
    "jupyter": {
     "outputs_hidden": false
    }
   },
   "outputs": [],
   "source": [
    "vhi_min(6, 2005)\n"
   ]
  },
  {
   "cell_type": "code",
   "execution_count": null,
   "id": "351177b371823c66",
   "metadata": {
    "ExecuteTime": {
     "end_time": "2024-03-27T17:09:47.137101Z",
     "start_time": "2024-03-27T17:09:47.129144Z"
    },
    "collapsed": false,
    "jupyter": {
     "outputs_hidden": false
    }
   },
   "outputs": [],
   "source": [
    "vhi_max(6, 2005)"
   ]
  },
  {
   "cell_type": "markdown",
   "id": "6c4fa7f1dc1034",
   "metadata": {
    "collapsed": false,
    "jupyter": {
     "outputs_hidden": false
    }
   },
   "source": [
    "Ряд VHI за вказаний діапазон років для вказаних областей"
   ]
  },
  {
   "cell_type": "code",
   "execution_count": null,
   "id": "d6330356711067b2",
   "metadata": {
    "ExecuteTime": {
     "end_time": "2024-03-30T07:39:41.943891Z",
     "start_time": "2024-03-30T07:39:41.937760Z"
    },
    "collapsed": false,
    "jupyter": {
     "outputs_hidden": false
    }
   },
   "outputs": [],
   "source": [
    "def vhi_range(year_min, year_max, areas):\n",
    "    if not isinstance(areas, list) or not areas:\n",
    "        print('Empty or not a list')\n",
    "        return\n",
    "    filtered_df = df_all[(df_all['Year'] >= year_min) & (df_all['Year'] <= year_max) & (df_all['area'].isin(areas))]\n",
    "    return filtered_df[['Year', 'VHI', 'area']]\n"
   ]
  },
  {
   "cell_type": "code",
   "execution_count": null,
   "id": "8f030efeac64dc00",
   "metadata": {
    "ExecuteTime": {
     "end_time": "2024-03-30T07:39:53.900239Z",
     "start_time": "2024-03-30T07:39:53.883923Z"
    },
    "collapsed": false,
    "jupyter": {
     "outputs_hidden": false
    }
   },
   "outputs": [],
   "source": [
    "vhi_range(2000, 2004, [5, 2, 3])"
   ]
  },
  {
   "cell_type": "markdown",
   "id": "966b2871126f482f",
   "metadata": {
    "collapsed": false,
    "jupyter": {
     "outputs_hidden": false
    }
   },
   "source": [
    "Роки, протягом яких екстремальні посухи торкнулися більше вказаного відсотка областей"
   ]
  },
  {
   "cell_type": "code",
   "execution_count": null,
   "id": "7f3324f43b066dff",
   "metadata": {
    "ExecuteTime": {
     "end_time": "2024-03-30T07:41:55.498419Z",
     "start_time": "2024-03-30T07:41:55.492828Z"
    },
    "collapsed": false,
    "jupyter": {
     "outputs_hidden": false
    }
   },
   "outputs": [],
   "source": [
    "def extreme_droughts(procent):\n",
    "    df_drouhts = df_all[(df_all['VHI'] <= 15) & (df_all['VHI'] != -1)]\n",
    "    grouped = df_drouhts.groupby('Year')['area'].nunique()\n",
    "    result = grouped[grouped > (25 * procent / 100)].reset_index()\n",
    "    return result"
   ]
  },
  {
   "cell_type": "code",
   "execution_count": null,
   "id": "c1611615e5754f8f",
   "metadata": {
    "ExecuteTime": {
     "end_time": "2024-03-30T07:42:18.748476Z",
     "start_time": "2024-03-30T07:42:18.736147Z"
    },
    "collapsed": false,
    "jupyter": {
     "outputs_hidden": false
    }
   },
   "outputs": [],
   "source": [
    "extreme_droughts(5)"
   ]
  },
  {
   "cell_type": "markdown",
   "id": "74fd3bb1c45a12f7",
   "metadata": {
    "collapsed": false,
    "jupyter": {
     "outputs_hidden": false
    }
   },
   "source": [
    "І так само для помірних посух"
   ]
  },
  {
   "cell_type": "code",
   "execution_count": null,
   "id": "f4ad8b2ed29bf275",
   "metadata": {
    "ExecuteTime": {
     "end_time": "2024-03-30T07:45:09.039147Z",
     "start_time": "2024-03-30T07:45:09.030011Z"
    },
    "collapsed": false,
    "jupyter": {
     "outputs_hidden": false
    }
   },
   "outputs": [],
   "source": [
    "def moderate_droughts(procent, min=15, max=40):\n",
    "    df_drouhts = df_all[(df_all['VHI'] >= min) & (df_all['VHI'] <= max)]\n",
    "    grouped = df_drouhts.groupby('Year')['area'].nunique()\n",
    "    count_areas = df_all['area'].nunique()\n",
    "    result = grouped[grouped > (count_areas * procent / 100)].reset_index()\n",
    "    return result"
   ]
  },
  {
   "cell_type": "code",
   "execution_count": null,
   "id": "13ae1a171ce9927b",
   "metadata": {
    "ExecuteTime": {
     "end_time": "2024-03-30T07:45:09.671329Z",
     "start_time": "2024-03-30T07:45:09.658365Z"
    },
    "collapsed": false,
    "jupyter": {
     "outputs_hidden": false
    }
   },
   "outputs": [],
   "source": [
    "moderate_droughts(10)"
   ]
  },
  {
   "cell_type": "code",
   "execution_count": null,
   "id": "3dc0ae4bba2a2e6e",
   "metadata": {
    "ExecuteTime": {
     "start_time": "2024-03-27T16:56:45.858690Z"
    },
    "collapsed": false,
    "jupyter": {
     "outputs_hidden": false
    }
   },
   "outputs": [],
   "source": []
  },
  {
   "cell_type": "code",
   "execution_count": null,
   "id": "4ec1f616-c11a-4fbb-b2a3-1a7b4e100a87",
   "metadata": {},
   "outputs": [],
   "source": []
  }
 ],
 "metadata": {
  "kernelspec": {
   "display_name": "Python 3 (ipykernel)",
   "language": "python",
   "name": "python3"
  },
  "language_info": {
   "codemirror_mode": {
    "name": "ipython",
    "version": 3
   },
   "file_extension": ".py",
   "mimetype": "text/x-python",
   "name": "python",
   "nbconvert_exporter": "python",
   "pygments_lexer": "ipython3",
   "version": "3.11.6"
  }
 },
 "nbformat": 4,
 "nbformat_minor": 5
}
